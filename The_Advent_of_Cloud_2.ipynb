*   **Rewarding Combinations:** The core fun of building comes from seeing synergies activate. Examples:
    *   `EC2 + EBS + VPC + Security Group`: Basic compute setup. Generates moderate revenue.
    *   `+ ELB + Auto Scaling`: Adds resilience and efficiency. *Synergy Bonus:* Reduced chance of 'Instance Crash' challenge, bonus Digital Revenue during simulated 'Peak Traffic' events.
    *   `+ CloudWatch Alarms`: *Synergy Bonus:* Automatically scales, further reducing cost/increasing revenue; potentially unlocks faster detection of Shadow Admin activity during investigations.
    *   `S3 + CloudFront`: *Synergy Bonus:* Faster 'data delivery' during specific puzzles, lower Bandwidth cost for some actions.
    *   `IAM + Security Groups + WAF + AWS Shield`: *Synergy Bonus:* High resistance to Shadow Admin attacks and 'Security Breach' trail challenges. Might unlock specific dialogue options related to security expertise.
*   **Visual Feedback:** When synergies activate, provide clear visual cues on the architecture screen (glowing connections, bonus icons).
*   **Discovery:** Players should feel clever discovering effective combinations that mirror real-world best practices.
*   **Risk/Reward:** Maybe deploying a powerful but complex service (like a Kubernetes cluster - EKS artifact) has high cost and requires multiple dependencies but offers huge revenue or unique capabilities *if* managed correctly. Failure could trigger negative events.