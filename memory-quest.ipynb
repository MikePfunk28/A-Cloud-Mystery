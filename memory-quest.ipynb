{
 "cells": [
  {
   "cell_type": "code",
   "execution_count": null,
   "metadata": {},
   "outputs": [],
   "source": [
    "review_list = []\n",
    "\n",
    "# After incorrect answer:\n",
    "review_list.append(current_q)\n",
    "\n",
    "# At end of game:\n",
    "\n",
    "\n",
    "def review_mistakes(review_list):\n",
    "    if not review_list:\n",
    "        return\n",
    "    print(\"\\n📚 Review Incorrect Answers:\")\n",
    "    for q in review_list:\n",
    "        print(f\"\\nQ: {q['question']}\")\n",
    "        print(f\"A: {q['answer']}\")\n",
    "        input(\"Press Enter to continue...\")\n",
    "\n",
    "\n",
    "# Call at game end:\n",
    "review_mistakes(review_list)"
   ]
  },
  {
   "cell_type": "code",
   "execution_count": null,
   "metadata": {},
   "outputs": [],
   "source": [
    "review_list = []\n",
    "\n",
    "# After incorrect answer:\n",
    "review_list.append(current_q)\n",
    "\n",
    "# At end of game:\n",
    "\n",
    "\n",
    "def review_mistakes(review_list):\n",
    "    if not review_list:\n",
    "        return\n",
    "    print(\"\\n📚 Review Incorrect Answers:\")\n",
    "    for q in review_list:\n",
    "        print(f\"\\nQ: {q['question']}\")\n",
    "        print(f\"A: {q['answer']}\")\n",
    "        input(\"Press Enter to continue...\")\n",
    "\n",
    "\n",
    "# Call at game end:\n",
    "review_mistakes(review_list)"
   ]
  },
  {
   "cell_type": "code",
   "execution_count": null,
   "metadata": {},
   "outputs": [],
   "source": [
    "def play_sound(effect):\n",
    "    if sys.platform == 'win32':\n",
    "        # Existing Windows code\n",
    "    else:\n",
    "        try:\n",
    "            import subprocess\n",
    "            if effect == \"correct\":\n",
    "                subprocess.run(['afplay', 'correct.wav'])\n",
    "            elif effect == \"wrong\":\n",
    "                subprocess.run(['afplay', 'wrong.wav'])\n",
    "            # Add sound files to project directory\n",
    "        except:\n",
    "            print(\"Sound not supported on this system\")"
   ]
  },
  {
   "cell_type": "code",
   "execution_count": null,
   "metadata": {},
   "outputs": [],
   "source": [
    "def save_score(name, score, topic, difficulty, rooms):\n",
    "    with open(\"leaderboard.txt\", \"a\") as f:\n",
    "        f.write(f\"{datetime.now()}|{name}|{score}|{topic}|{difficulty}|{rooms}\\n\")\n",
    "\n",
    "\n",
    "def show_leaderboard():\n",
    "    # Sort by score and show difficulty/rooms\n",
    "    scores.sort(key=lambda x: (int(x[2]), x[4], x[5]), reverse=True)"
   ]
  },
  {
   "cell_type": "code",
   "execution_count": null,
   "metadata": {},
   "outputs": [],
   "source": [
    "# New power-up: Skip Question\n",
    "if random.randint(1, 5) == 1:\n",
    "    print(\"✨ You found a SKIP TOKEN! Use it to bypass a question.\")\n",
    "    skip_tokens += 1\n",
    "\n",
    "# In question loop:\n",
    "if skip_tokens > 0:\n",
    "    use_skip = input(\"Use Skip Token? (Y/N): \").lower()\n",
    "    if use_skip == 'y':\n",
    "        skip_tokens -= 1\n",
    "        print(\"Skipping question...\")\n",
    "        continue"
   ]
  },
  {
   "cell_type": "code",
   "execution_count": null,
   "metadata": {},
   "outputs": [],
   "source": [
    "class Colors:\n",
    "    HEADER = '\\033[95m'\n",
    "    BLUE = '\\033[94m'\n",
    "    GREEN = '\\033[92m'\n",
    "    YELLOW = '\\033[93m'\n",
    "    RED = '\\033[91m'\n",
    "    ENDC = '\\033[0m'\n",
    "\n",
    "\n",
    "# Example usage:\n",
    "print(f\"{Colors.GREEN}✅ Correct!{Colors.ENDC}\")"
   ]
  },
  {
   "cell_type": "code",
   "execution_count": null,
   "metadata": {},
   "outputs": [],
   "source": [
    "import json\n",
    "\n",
    "\n",
    "def save_game(player_name, score, lives, room):\n",
    "    with open(f\"save_{player_name}.json\", \"w\") as f:\n",
    "        json.dump({\"score\": score, \"lives\": lives, \"room\": room}, f)\n",
    "\n",
    "\n",
    "def load_game(player_name):\n",
    "    try:\n",
    "        with open(f\"save_{player_name}.json\", \"r\") as f:\n",
    "            return json.load(f)\n",
    "    except FileNotFoundError:\n",
    "        return None\n",
    "\n",
    "\n",
    "# At start:\n",
    "load_data = load_game(player_name)\n",
    "if load_data:\n",
    "    score, lives, room = load_data.values()"
   ]
  },
  {
   "cell_type": "code",
   "execution_count": null,
   "metadata": {},
   "outputs": [],
   "source": [
    "import msvcrt  # For Windows\n",
    "import sys\n",
    "\n",
    "\n",
    "def timed_input(prompt, timeout):\n",
    "    print(prompt)\n",
    "    start = time.time()\n",
    "    response = []\n",
    "    while True:\n",
    "        if msvcrt.kbhit():\n",
    "            char = msvcrt.getche().decode('utf-8')\n",
    "            if char == '\\r':\n",
    "                return ''.join(response)\n",
    "            response.append(char)\n",
    "        if time.time() - start > timeout:\n",
    "            print(\"\\nTime's up!\")\n",
    "            return None"
   ]
  },
  {
   "cell_type": "code",
   "execution_count": null,
   "metadata": {},
   "outputs": [],
   "source": [
    "# Add to main loop:\n",
    "if answer is None:\n",
    "    print(\"Time's up!\")\n",
    "else:\n",
    "    # Process answer\n",
    "\n",
    "# Add color to ASCII art:\n",
    "print(f\"{Colors.YELLOW}{LIBRARY_ART}{Colors.ENDC}\")\n",
    "\n",
    "# Add study tips after game:\n",
    "print(\"\\n📚 Study Tips:\")\n",
    "print(\"1. Use spaced repetition for better retention\")\n",
    "print(\"2. Focus on areas with low scores\")"
   ]
  },
  {
   "cell_type": "markdown",
   "metadata": {},
   "source": [
    "memory_quest/\n",
    "├── main.py          # Core game loop\n",
    "├── assets/\n",
    "│   ├── art.py       # All ASCII art\n",
    "│   └── sounds/      # Sound files (correct.wav, etc.)\n",
    "├── systems/\n",
    "│   ├── leaderboard.py\n",
    "│   └── powerups.py\n",
    "└── utils/\n",
    "    ├── colors.py    # Color constants\n",
    "    └── input.py     # Enhanced input handling"
   ]
  }
 ],
 "metadata": {
  "kernelspec": {
   "display_name": "Python 3",
   "language": "python",
   "name": "python3"
  },
  "language_info": {
   "name": "python",
   "version": "3.13.2"
  }
 },
 "nbformat": 4,
 "nbformat_minor": 2
}
