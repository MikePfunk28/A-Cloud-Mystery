*   **World Map & Travel:** Stylized world map with nodes representing major cities/AWS Regions. Travel costs Time & Bandwidth. Different routes might have different risks/rewards.
*   **Resource Management:**
    *   *Cloud Credits:* Primary currency. Spent on deploying services, traveling, hiring temporary "specialists" (boosting Team Expertise). Earned from missions and passive Digital Revenue from your architecture.
    *   *Bandwidth:* Consumed during travel and large data "transfers" (part of puzzles/challenges). Replenishes slowly or via specific actions/locations. Affects travel speed.
    *   *Team Expertise:* Abstract resource representing your team's skills (Compute, Network, DB, Security, etc.). Needed for certain actions or increases success chance. Can be temporarily boosted.
    *   *Time:* Overall mission timer or per-chapter limits. Consumed by travel and actions. Adds urgency.
*   **Cloud Artifacts (AWS Services):**
    *   Represented visually (cards, inventory icons).
    *   Have associated Cloud Credit costs (initial deployment, ongoing operation).
    *   Provide specific functions within the game (e.g., EC2 Artifact allows running 'compute tasks', S3 Artifact allows 'data storage').
    *   Include short, accurate descriptions of the real AWS service.
    *   Have **Synergies**: Combining artifacts logically (e.g., EC2 + ELB + Auto Scaling) provides bonuses: reduced operating costs, increased Digital Revenue, resilience against specific Trail Challenges, unlocking special investigation options.
    *   May have **Prerequisites**: Some artifacts might require others to function effectively (e.g., deploying an RDS instance might require a VPC artifact first).
*   **Trail Challenges:** Random events during travel or at locations (inspired by Oregon Trail). Examples:
    *   *DDoS Storm:* Requires deploying Cloudflare/WAF/Shield artifacts or spending Credits/Time to mitigate.
    *   *Region Outage:* If your architecture isn't multi-AZ (using artifacts correctly), suffer resource penalties.
    *   *Compliance Audit:* Requires specific security artifacts (IAM, KMS) to be in place or face fines (Credit loss).
    *   *Sudden Cost Spike:* A specific service becomes temporarily more expensive, pushing optimization challenges.
*   **Investigation & Puzzles:** Dialogue trees with NPCs, logic puzzles based on cloud concepts (e.g., analyze network flow logs, configure security group rules graphically, decrypt data using KMS concepts), mini-games simulating service configuration.
*   **Architecture Building:** A dedicated screen/interface where players arrange their collected Artifacts visually. Shows connections, dependencies, costs, revenue, and overall efficiency/security rating. This is key for passive resource generation and passing certain checks/challenges.
*   **Antagonist (Shadow Admin):** Actively works against the player. Triggers specific challenges, deploy "malware" artifacts the player needs to counter with security services, races the player to certain artifacts.
*   **Narrative & Education:** Story unfolds through dialogues, found logs, mission briefings. AWS concepts are introduced contextually as tools to solve problems within the narrative. Success relies on understanding and applying these concepts.